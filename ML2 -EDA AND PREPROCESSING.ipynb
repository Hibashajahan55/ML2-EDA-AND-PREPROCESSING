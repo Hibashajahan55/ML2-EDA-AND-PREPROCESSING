{
 "cells": [
  {
   "cell_type": "code",
   "execution_count": 1,
   "id": "31ed31ed",
   "metadata": {},
   "outputs": [],
   "source": [
    "# EDA and Preprocessing \n",
    "# Objective: \n",
    "# The main objective of this project is to design and implement a robust data preprocessing system that addresses common challenges such as missing values, outliers, inconsistent formatting, and noise. By performing effective data preprocessing, the project aims to enhance the quality, reliability, and usefulness of the data for machine learning.\n",
    "# Key Components to be fulfilled: \n",
    "\n",
    "# 1.Data Exploration: (Score : 2) \n",
    "# Explore the data, list down the unique values in each feature and find its length. \n",
    "# Perform the statistical analysis and renaming of the columns. \n",
    "\n",
    "# 2.Data Cleaning: (Score : 2) \n",
    "# Find the missing and inappropriate values, treat them appropriately. \n",
    "# Remove all duplicate rows. \n",
    "# Find the outliers. \n",
    "# Replace the value 0 in age as NaN \n",
    "# Treat the null values in all columns using any measures(removing/ replace the values with mean/median/mode) \n",
    "\n",
    "# 3.Data Analysis: (Score : 2) \n",
    "# Filter the data with age >40 and salary<5000 \n",
    "# Plot the chart with age and salary \n",
    "# Count the number of people from each place and represent it visually \n",
    "\n",
    "# 4. Data Encoding: (Score : 2) \n",
    "# Convert categorical variables into numerical representations using techniques such as one-hot encoding, label encoding, making them suitable for analysis by machine learning algorithms. \n",
    "\n",
    "# 5.Feature Scaling: (Score : 2) \n",
    "# After the process of encoding, perform the scaling of the features using standardscaler and minmaxscaler. "
   ]
  },
  {
   "cell_type": "code",
   "execution_count": 138,
   "id": "d5255f7e",
   "metadata": {},
   "outputs": [],
   "source": [
    "# Importing all the necessary libraries\n",
    "import pandas as pd\n",
    "import matplotlib.pyplot as plt\n",
    "import seaborn as sns\n",
    "import numpy as np\n",
    "from scipy.stats import iqr, zscore, skew\n",
    "from sklearn.preprocessing import LabelEncoder\n",
    "from sklearn.preprocessing import OneHotEncoder\n",
    "from sklearn.model_selection import train_test_split\n",
    "from sklearn.preprocessing import StandardScaler, MinMaxScaler\n",
    "import warnings\n",
    "warnings.filterwarnings(\"ignore\")"
   ]
  },
  {
   "cell_type": "code",
   "execution_count": 139,
   "id": "ba7b469e",
   "metadata": {},
   "outputs": [
    {
     "data": {
      "text/html": [
       "<div>\n",
       "<style scoped>\n",
       "    .dataframe tbody tr th:only-of-type {\n",
       "        vertical-align: middle;\n",
       "    }\n",
       "\n",
       "    .dataframe tbody tr th {\n",
       "        vertical-align: top;\n",
       "    }\n",
       "\n",
       "    .dataframe thead th {\n",
       "        text-align: right;\n",
       "    }\n",
       "</style>\n",
       "<table border=\"1\" class=\"dataframe\">\n",
       "  <thead>\n",
       "    <tr style=\"text-align: right;\">\n",
       "      <th></th>\n",
       "      <th>Company</th>\n",
       "      <th>Age</th>\n",
       "      <th>Salary</th>\n",
       "      <th>Place</th>\n",
       "      <th>Country</th>\n",
       "      <th>Gender</th>\n",
       "    </tr>\n",
       "  </thead>\n",
       "  <tbody>\n",
       "    <tr>\n",
       "      <th>0</th>\n",
       "      <td>TCS</td>\n",
       "      <td>20.0</td>\n",
       "      <td>NaN</td>\n",
       "      <td>Chennai</td>\n",
       "      <td>India</td>\n",
       "      <td>0</td>\n",
       "    </tr>\n",
       "    <tr>\n",
       "      <th>1</th>\n",
       "      <td>Infosys</td>\n",
       "      <td>30.0</td>\n",
       "      <td>NaN</td>\n",
       "      <td>Mumbai</td>\n",
       "      <td>India</td>\n",
       "      <td>0</td>\n",
       "    </tr>\n",
       "    <tr>\n",
       "      <th>2</th>\n",
       "      <td>TCS</td>\n",
       "      <td>35.0</td>\n",
       "      <td>2300.0</td>\n",
       "      <td>Calcutta</td>\n",
       "      <td>India</td>\n",
       "      <td>0</td>\n",
       "    </tr>\n",
       "    <tr>\n",
       "      <th>3</th>\n",
       "      <td>Infosys</td>\n",
       "      <td>40.0</td>\n",
       "      <td>3000.0</td>\n",
       "      <td>Delhi</td>\n",
       "      <td>India</td>\n",
       "      <td>0</td>\n",
       "    </tr>\n",
       "    <tr>\n",
       "      <th>4</th>\n",
       "      <td>TCS</td>\n",
       "      <td>23.0</td>\n",
       "      <td>4000.0</td>\n",
       "      <td>Mumbai</td>\n",
       "      <td>India</td>\n",
       "      <td>0</td>\n",
       "    </tr>\n",
       "    <tr>\n",
       "      <th>...</th>\n",
       "      <td>...</td>\n",
       "      <td>...</td>\n",
       "      <td>...</td>\n",
       "      <td>...</td>\n",
       "      <td>...</td>\n",
       "      <td>...</td>\n",
       "    </tr>\n",
       "    <tr>\n",
       "      <th>143</th>\n",
       "      <td>TCS</td>\n",
       "      <td>33.0</td>\n",
       "      <td>9024.0</td>\n",
       "      <td>Calcutta</td>\n",
       "      <td>India</td>\n",
       "      <td>1</td>\n",
       "    </tr>\n",
       "    <tr>\n",
       "      <th>144</th>\n",
       "      <td>Infosys</td>\n",
       "      <td>22.0</td>\n",
       "      <td>8787.0</td>\n",
       "      <td>Calcutta</td>\n",
       "      <td>India</td>\n",
       "      <td>1</td>\n",
       "    </tr>\n",
       "    <tr>\n",
       "      <th>145</th>\n",
       "      <td>Infosys</td>\n",
       "      <td>44.0</td>\n",
       "      <td>4034.0</td>\n",
       "      <td>Delhi</td>\n",
       "      <td>India</td>\n",
       "      <td>1</td>\n",
       "    </tr>\n",
       "    <tr>\n",
       "      <th>146</th>\n",
       "      <td>TCS</td>\n",
       "      <td>33.0</td>\n",
       "      <td>5034.0</td>\n",
       "      <td>Mumbai</td>\n",
       "      <td>India</td>\n",
       "      <td>1</td>\n",
       "    </tr>\n",
       "    <tr>\n",
       "      <th>147</th>\n",
       "      <td>Infosys</td>\n",
       "      <td>22.0</td>\n",
       "      <td>8202.0</td>\n",
       "      <td>Cochin</td>\n",
       "      <td>India</td>\n",
       "      <td>0</td>\n",
       "    </tr>\n",
       "  </tbody>\n",
       "</table>\n",
       "<p>148 rows × 6 columns</p>\n",
       "</div>"
      ],
      "text/plain": [
       "     Company   Age  Salary     Place Country  Gender\n",
       "0        TCS  20.0     NaN   Chennai   India       0\n",
       "1    Infosys  30.0     NaN    Mumbai   India       0\n",
       "2        TCS  35.0  2300.0  Calcutta   India       0\n",
       "3    Infosys  40.0  3000.0     Delhi   India       0\n",
       "4        TCS  23.0  4000.0    Mumbai   India       0\n",
       "..       ...   ...     ...       ...     ...     ...\n",
       "143      TCS  33.0  9024.0  Calcutta   India       1\n",
       "144  Infosys  22.0  8787.0  Calcutta   India       1\n",
       "145  Infosys  44.0  4034.0     Delhi   India       1\n",
       "146      TCS  33.0  5034.0    Mumbai   India       1\n",
       "147  Infosys  22.0  8202.0    Cochin   India       0\n",
       "\n",
       "[148 rows x 6 columns]"
      ]
     },
     "execution_count": 139,
     "metadata": {},
     "output_type": "execute_result"
    }
   ],
   "source": [
    "#Read data\n",
    "df=pd.read_csv(\"Employee.csv\")\n",
    "df"
   ]
  },
  {
   "cell_type": "code",
   "execution_count": 140,
   "id": "a6878d5e",
   "metadata": {},
   "outputs": [
    {
     "name": "stdout",
     "output_type": "stream",
     "text": [
      "Basic information:\n",
      "<class 'pandas.core.frame.DataFrame'>\n",
      "RangeIndex: 148 entries, 0 to 147\n",
      "Data columns (total 6 columns):\n",
      " #   Column   Non-Null Count  Dtype  \n",
      "---  ------   --------------  -----  \n",
      " 0   Company  140 non-null    object \n",
      " 1   Age      130 non-null    float64\n",
      " 2   Salary   124 non-null    float64\n",
      " 3   Place    134 non-null    object \n",
      " 4   Country  148 non-null    object \n",
      " 5   Gender   148 non-null    int64  \n",
      "dtypes: float64(2), int64(1), object(3)\n",
      "memory usage: 7.1+ KB\n"
     ]
    }
   ],
   "source": [
    "print(\"Basic information:\")\n",
    "df.info()"
   ]
  },
  {
   "cell_type": "code",
   "execution_count": 141,
   "id": "f2db9934",
   "metadata": {},
   "outputs": [
    {
     "name": "stdout",
     "output_type": "stream",
     "text": [
      "Rows and column distribution:\n"
     ]
    },
    {
     "data": {
      "text/plain": [
       "(148, 6)"
      ]
     },
     "execution_count": 141,
     "metadata": {},
     "output_type": "execute_result"
    }
   ],
   "source": [
    "print(\"Rows and column distribution:\")\n",
    "df.shape"
   ]
  },
  {
   "cell_type": "code",
   "execution_count": 142,
   "id": "406e007b",
   "metadata": {},
   "outputs": [
    {
     "name": "stdout",
     "output_type": "stream",
     "text": [
      "Columns:\n"
     ]
    },
    {
     "data": {
      "text/plain": [
       "Index(['Company', 'Age', 'Salary', 'Place', 'Country', 'Gender'], dtype='object')"
      ]
     },
     "execution_count": 142,
     "metadata": {},
     "output_type": "execute_result"
    }
   ],
   "source": [
    "print(\"Columns:\")\n",
    "df.columns"
   ]
  },
  {
   "cell_type": "code",
   "execution_count": 143,
   "id": "388073e7",
   "metadata": {},
   "outputs": [
    {
     "name": "stdout",
     "output_type": "stream",
     "text": [
      "Statistical description:\n"
     ]
    },
    {
     "data": {
      "text/html": [
       "<div>\n",
       "<style scoped>\n",
       "    .dataframe tbody tr th:only-of-type {\n",
       "        vertical-align: middle;\n",
       "    }\n",
       "\n",
       "    .dataframe tbody tr th {\n",
       "        vertical-align: top;\n",
       "    }\n",
       "\n",
       "    .dataframe thead th {\n",
       "        text-align: right;\n",
       "    }\n",
       "</style>\n",
       "<table border=\"1\" class=\"dataframe\">\n",
       "  <thead>\n",
       "    <tr style=\"text-align: right;\">\n",
       "      <th></th>\n",
       "      <th>Age</th>\n",
       "      <th>Salary</th>\n",
       "      <th>Gender</th>\n",
       "    </tr>\n",
       "  </thead>\n",
       "  <tbody>\n",
       "    <tr>\n",
       "      <th>count</th>\n",
       "      <td>130.000000</td>\n",
       "      <td>124.000000</td>\n",
       "      <td>148.000000</td>\n",
       "    </tr>\n",
       "    <tr>\n",
       "      <th>mean</th>\n",
       "      <td>30.484615</td>\n",
       "      <td>5312.467742</td>\n",
       "      <td>0.222973</td>\n",
       "    </tr>\n",
       "    <tr>\n",
       "      <th>std</th>\n",
       "      <td>11.096640</td>\n",
       "      <td>2573.764683</td>\n",
       "      <td>0.417654</td>\n",
       "    </tr>\n",
       "    <tr>\n",
       "      <th>min</th>\n",
       "      <td>0.000000</td>\n",
       "      <td>1089.000000</td>\n",
       "      <td>0.000000</td>\n",
       "    </tr>\n",
       "    <tr>\n",
       "      <th>25%</th>\n",
       "      <td>22.000000</td>\n",
       "      <td>3030.000000</td>\n",
       "      <td>0.000000</td>\n",
       "    </tr>\n",
       "    <tr>\n",
       "      <th>50%</th>\n",
       "      <td>32.500000</td>\n",
       "      <td>5000.000000</td>\n",
       "      <td>0.000000</td>\n",
       "    </tr>\n",
       "    <tr>\n",
       "      <th>75%</th>\n",
       "      <td>37.750000</td>\n",
       "      <td>8000.000000</td>\n",
       "      <td>0.000000</td>\n",
       "    </tr>\n",
       "    <tr>\n",
       "      <th>max</th>\n",
       "      <td>54.000000</td>\n",
       "      <td>9876.000000</td>\n",
       "      <td>1.000000</td>\n",
       "    </tr>\n",
       "  </tbody>\n",
       "</table>\n",
       "</div>"
      ],
      "text/plain": [
       "              Age       Salary      Gender\n",
       "count  130.000000   124.000000  148.000000\n",
       "mean    30.484615  5312.467742    0.222973\n",
       "std     11.096640  2573.764683    0.417654\n",
       "min      0.000000  1089.000000    0.000000\n",
       "25%     22.000000  3030.000000    0.000000\n",
       "50%     32.500000  5000.000000    0.000000\n",
       "75%     37.750000  8000.000000    0.000000\n",
       "max     54.000000  9876.000000    1.000000"
      ]
     },
     "execution_count": 143,
     "metadata": {},
     "output_type": "execute_result"
    }
   ],
   "source": [
    "print(\"Statistical description:\")\n",
    "df.describe()"
   ]
  },
  {
   "cell_type": "code",
   "execution_count": 144,
   "id": "26baba6e",
   "metadata": {},
   "outputs": [
    {
     "name": "stdout",
     "output_type": "stream",
     "text": [
      "Missing values:\n"
     ]
    },
    {
     "data": {
      "text/plain": [
       "Company     8\n",
       "Age        18\n",
       "Salary     24\n",
       "Place      14\n",
       "Country     0\n",
       "Gender      0\n",
       "dtype: int64"
      ]
     },
     "execution_count": 144,
     "metadata": {},
     "output_type": "execute_result"
    }
   ],
   "source": [
    "# Finding missing values\n",
    "print(\"Missing values:\")\n",
    "df.isnull().sum()"
   ]
  },
  {
   "cell_type": "code",
   "execution_count": 145,
   "id": "00cdd0f9",
   "metadata": {},
   "outputs": [
    {
     "name": "stdout",
     "output_type": "stream",
     "text": [
      "     Company   Age  Salary     Place Country  Gender\n",
      "0        TCS  20.0     NaN   Chennai   India       0\n",
      "1    Infosys  30.0     NaN    Mumbai   India       0\n",
      "2        TCS  35.0  2300.0  Calcutta   India       0\n",
      "3    Infosys  40.0  3000.0     Delhi   India       0\n",
      "4        TCS  23.0  4000.0    Mumbai   India       0\n",
      "..       ...   ...     ...       ...     ...     ...\n",
      "143      TCS  33.0  9024.0  Calcutta   India       1\n",
      "144  Infosys  22.0  8787.0  Calcutta   India       1\n",
      "145  Infosys  44.0  4034.0     Delhi   India       1\n",
      "146      TCS  33.0  5034.0    Mumbai   India       1\n",
      "147  Infosys  22.0  8202.0    Cochin   India       0\n",
      "\n",
      "[148 rows x 6 columns]\n"
     ]
    }
   ],
   "source": [
    "print (df)"
   ]
  },
  {
   "cell_type": "markdown",
   "id": "10d21fe2",
   "metadata": {},
   "source": [
    "# 1.Data Exploration: \n"
   ]
  },
  {
   "cell_type": "markdown",
   "id": "657c1698",
   "metadata": {},
   "source": [
    "### Explore the data, list down the unique values in each feature and find its length.\n",
    "### Perform the statistical analysis and renaming of the columns."
   ]
  },
  {
   "cell_type": "code",
   "execution_count": 146,
   "id": "2bc5202a",
   "metadata": {},
   "outputs": [
    {
     "name": "stdout",
     "output_type": "stream",
     "text": [
      "Initial Data Info:\n",
      "<class 'pandas.core.frame.DataFrame'>\n",
      "RangeIndex: 148 entries, 0 to 147\n",
      "Data columns (total 6 columns):\n",
      " #   Column   Non-Null Count  Dtype  \n",
      "---  ------   --------------  -----  \n",
      " 0   Company  140 non-null    object \n",
      " 1   Age      130 non-null    float64\n",
      " 2   Salary   124 non-null    float64\n",
      " 3   Place    134 non-null    object \n",
      " 4   Country  148 non-null    object \n",
      " 5   Gender   148 non-null    int64  \n",
      "dtypes: float64(2), int64(1), object(3)\n",
      "memory usage: 7.1+ KB\n"
     ]
    }
   ],
   "source": [
    "print(\"Initial Data Info:\")\n",
    "df.info()\n",
    "    "
   ]
  },
  {
   "cell_type": "code",
   "execution_count": 147,
   "id": "17a53b07",
   "metadata": {},
   "outputs": [
    {
     "name": "stdout",
     "output_type": "stream",
     "text": [
      "\n",
      "Unique values per column:\n",
      "{'Company': 6, 'Age': 29, 'Salary': 40, 'Place': 11, 'Country': 1, 'Gender': 2}\n"
     ]
    }
   ],
   "source": [
    "print(\"\\nUnique values per column:\")\n",
    "print({col: df[col].nunique() for col in df.columns})"
   ]
  },
  {
   "cell_type": "code",
   "execution_count": 148,
   "id": "72fd0316",
   "metadata": {},
   "outputs": [
    {
     "name": "stdout",
     "output_type": "stream",
     "text": [
      "Unique Values and Their Counts:\n",
      "Company: 7 unique values\n",
      "['TCS' 'Infosys' 'CTS' nan 'Tata Consultancy Services' 'Congnizant'\n",
      " 'Infosys Pvt Lmt']\n",
      "\n",
      "Age: 30 unique values\n",
      "[20. 30. 35. 40. 23. nan 34. 45. 18. 22. 32. 37. 50. 21. 46. 36. 26. 41.\n",
      " 24. 25. 43. 19. 38. 51. 31. 44. 33. 17.  0. 54.]\n",
      "\n",
      "Salary: 41 unique values\n",
      "[  nan 2300. 3000. 4000. 5000. 6000. 7000. 8000. 9000. 1089. 1234. 3030.\n",
      " 3045. 3184. 4824. 5835. 7084. 8943. 8345. 9284. 9876. 2034. 7654. 2934.\n",
      " 4034. 5034. 8202. 9024. 4345. 6544. 6543. 3234. 4324. 5435. 5555. 8787.\n",
      " 3454. 5654. 5009. 5098. 3033.]\n",
      "\n",
      "Place: 12 unique values\n",
      "['Chennai' 'Mumbai' 'Calcutta' 'Delhi' 'Podicherry' 'Cochin' nan 'Noida'\n",
      " 'Hyderabad' 'Bhopal' 'Nagpur' 'Pune']\n",
      "\n",
      "Country: 1 unique values\n",
      "['India']\n",
      "\n",
      "Gender: 2 unique values\n",
      "[0 1]\n",
      "\n"
     ]
    }
   ],
   "source": [
    "unique_values = {col: (df[col].unique(), len(df[col].unique())) for col in df.columns}\n",
    "print(\"Unique Values and Their Counts:\")\n",
    "for col, (values, count) in unique_values.items():\n",
    "    print(f\"{col}: {count} unique values\\n{values}\\n\")\n"
   ]
  },
  {
   "cell_type": "code",
   "execution_count": 149,
   "id": "4202c5ea",
   "metadata": {},
   "outputs": [
    {
     "name": "stdout",
     "output_type": "stream",
     "text": [
      "\n",
      "Statistical Analysis:\n",
      "       Company         Age       Salary   Place Country      Gender\n",
      "count      140  130.000000   124.000000     134     148  148.000000\n",
      "unique       6         NaN          NaN      11       1         NaN\n",
      "top        TCS         NaN          NaN  Mumbai   India         NaN\n",
      "freq        53         NaN          NaN      37     148         NaN\n",
      "mean       NaN   30.484615  5312.467742     NaN     NaN    0.222973\n",
      "std        NaN   11.096640  2573.764683     NaN     NaN    0.417654\n",
      "min        NaN    0.000000  1089.000000     NaN     NaN    0.000000\n",
      "25%        NaN   22.000000  3030.000000     NaN     NaN    0.000000\n",
      "50%        NaN   32.500000  5000.000000     NaN     NaN    0.000000\n",
      "75%        NaN   37.750000  8000.000000     NaN     NaN    0.000000\n",
      "max        NaN   54.000000  9876.000000     NaN     NaN    1.000000\n"
     ]
    }
   ],
   "source": [
    "print(\"\\nStatistical Analysis:\")\n",
    "statistical_analysis = df.describe(include='all')\n",
    "print(statistical_analysis)"
   ]
  },
  {
   "cell_type": "code",
   "execution_count": 150,
   "id": "f74c21e3",
   "metadata": {},
   "outputs": [],
   "source": [
    "# Renaming columns\n",
    "df.rename(columns={\n",
    "    'Company': 'Company_Name',\n",
    "    'Age': 'Employee_Age',\n",
    "    'Salary': 'Employee_Salary',\n",
    "    'Place': 'Location',\n",
    "    'Country': 'Country_Name',\n",
    "    'Gender': 'Gender(0=Male, 1=Female)'\n",
    "}, inplace=True)"
   ]
  },
  {
   "cell_type": "code",
   "execution_count": 151,
   "id": "ed1581f2",
   "metadata": {},
   "outputs": [],
   "source": [
    "df.rename(columns={\n",
    "    'Gender': 'Gender(0=Male, 1=Female)'\n",
    "}, inplace=True)"
   ]
  },
  {
   "cell_type": "code",
   "execution_count": 152,
   "id": "ae684cc3",
   "metadata": {},
   "outputs": [
    {
     "name": "stdout",
     "output_type": "stream",
     "text": [
      "  Company_Name  Employee_Age  Employee_Salary  Location Country_Name  \\\n",
      "0          TCS          20.0              NaN   Chennai        India   \n",
      "1      Infosys          30.0              NaN    Mumbai        India   \n",
      "2          TCS          35.0           2300.0  Calcutta        India   \n",
      "3      Infosys          40.0           3000.0     Delhi        India   \n",
      "4          TCS          23.0           4000.0    Mumbai        India   \n",
      "\n",
      "   Gender(0=Male, 1=Female)  \n",
      "0                         0  \n",
      "1                         0  \n",
      "2                         0  \n",
      "3                         0  \n",
      "4                         0  \n"
     ]
    }
   ],
   "source": [
    "print(df.head())"
   ]
  },
  {
   "cell_type": "markdown",
   "id": "50f1a9b6",
   "metadata": {},
   "source": [
    "# 2. Data Cleaning"
   ]
  },
  {
   "cell_type": "code",
   "execution_count": 153,
   "id": "1f4c0d44",
   "metadata": {},
   "outputs": [
    {
     "name": "stdout",
     "output_type": "stream",
     "text": [
      "Missing values:\n"
     ]
    },
    {
     "data": {
      "text/plain": [
       "Company_Name                 8\n",
       "Employee_Age                18\n",
       "Employee_Salary             24\n",
       "Location                    14\n",
       "Country_Name                 0\n",
       "Gender(0=Male, 1=Female)     0\n",
       "dtype: int64"
      ]
     },
     "execution_count": 153,
     "metadata": {},
     "output_type": "execute_result"
    }
   ],
   "source": [
    "# Identifying missing values\n",
    "\n",
    "print(\"Missing values:\")\n",
    "df.isnull().sum()"
   ]
  },
  {
   "cell_type": "code",
   "execution_count": 154,
   "id": "3e7c12f8",
   "metadata": {},
   "outputs": [
    {
     "data": {
      "text/html": [
       "<div>\n",
       "<style scoped>\n",
       "    .dataframe tbody tr th:only-of-type {\n",
       "        vertical-align: middle;\n",
       "    }\n",
       "\n",
       "    .dataframe tbody tr th {\n",
       "        vertical-align: top;\n",
       "    }\n",
       "\n",
       "    .dataframe thead th {\n",
       "        text-align: right;\n",
       "    }\n",
       "</style>\n",
       "<table border=\"1\" class=\"dataframe\">\n",
       "  <thead>\n",
       "    <tr style=\"text-align: right;\">\n",
       "      <th></th>\n",
       "      <th>Company_Name</th>\n",
       "      <th>Employee_Age</th>\n",
       "      <th>Employee_Salary</th>\n",
       "      <th>Location</th>\n",
       "      <th>Country_Name</th>\n",
       "      <th>Gender(0=Male, 1=Female)</th>\n",
       "    </tr>\n",
       "  </thead>\n",
       "  <tbody>\n",
       "    <tr>\n",
       "      <th>0</th>\n",
       "      <td>TCS</td>\n",
       "      <td>20.0</td>\n",
       "      <td>NaN</td>\n",
       "      <td>Chennai</td>\n",
       "      <td>India</td>\n",
       "      <td>0</td>\n",
       "    </tr>\n",
       "    <tr>\n",
       "      <th>1</th>\n",
       "      <td>Infosys</td>\n",
       "      <td>30.0</td>\n",
       "      <td>NaN</td>\n",
       "      <td>Mumbai</td>\n",
       "      <td>India</td>\n",
       "      <td>0</td>\n",
       "    </tr>\n",
       "    <tr>\n",
       "      <th>2</th>\n",
       "      <td>TCS</td>\n",
       "      <td>35.0</td>\n",
       "      <td>2300.0</td>\n",
       "      <td>Calcutta</td>\n",
       "      <td>India</td>\n",
       "      <td>0</td>\n",
       "    </tr>\n",
       "    <tr>\n",
       "      <th>3</th>\n",
       "      <td>Infosys</td>\n",
       "      <td>40.0</td>\n",
       "      <td>3000.0</td>\n",
       "      <td>Delhi</td>\n",
       "      <td>India</td>\n",
       "      <td>0</td>\n",
       "    </tr>\n",
       "    <tr>\n",
       "      <th>4</th>\n",
       "      <td>TCS</td>\n",
       "      <td>23.0</td>\n",
       "      <td>4000.0</td>\n",
       "      <td>Mumbai</td>\n",
       "      <td>India</td>\n",
       "      <td>0</td>\n",
       "    </tr>\n",
       "    <tr>\n",
       "      <th>...</th>\n",
       "      <td>...</td>\n",
       "      <td>...</td>\n",
       "      <td>...</td>\n",
       "      <td>...</td>\n",
       "      <td>...</td>\n",
       "      <td>...</td>\n",
       "    </tr>\n",
       "    <tr>\n",
       "      <th>142</th>\n",
       "      <td>Infosys Pvt Lmt</td>\n",
       "      <td>22.0</td>\n",
       "      <td>8202.0</td>\n",
       "      <td>Mumbai</td>\n",
       "      <td>India</td>\n",
       "      <td>0</td>\n",
       "    </tr>\n",
       "    <tr>\n",
       "      <th>143</th>\n",
       "      <td>TCS</td>\n",
       "      <td>33.0</td>\n",
       "      <td>9024.0</td>\n",
       "      <td>Calcutta</td>\n",
       "      <td>India</td>\n",
       "      <td>1</td>\n",
       "    </tr>\n",
       "    <tr>\n",
       "      <th>145</th>\n",
       "      <td>Infosys</td>\n",
       "      <td>44.0</td>\n",
       "      <td>4034.0</td>\n",
       "      <td>Delhi</td>\n",
       "      <td>India</td>\n",
       "      <td>1</td>\n",
       "    </tr>\n",
       "    <tr>\n",
       "      <th>146</th>\n",
       "      <td>TCS</td>\n",
       "      <td>33.0</td>\n",
       "      <td>5034.0</td>\n",
       "      <td>Mumbai</td>\n",
       "      <td>India</td>\n",
       "      <td>1</td>\n",
       "    </tr>\n",
       "    <tr>\n",
       "      <th>147</th>\n",
       "      <td>Infosys</td>\n",
       "      <td>22.0</td>\n",
       "      <td>8202.0</td>\n",
       "      <td>Cochin</td>\n",
       "      <td>India</td>\n",
       "      <td>0</td>\n",
       "    </tr>\n",
       "  </tbody>\n",
       "</table>\n",
       "<p>144 rows × 6 columns</p>\n",
       "</div>"
      ],
      "text/plain": [
       "        Company_Name  Employee_Age  Employee_Salary  Location Country_Name  \\\n",
       "0                TCS          20.0              NaN   Chennai        India   \n",
       "1            Infosys          30.0              NaN    Mumbai        India   \n",
       "2                TCS          35.0           2300.0  Calcutta        India   \n",
       "3            Infosys          40.0           3000.0     Delhi        India   \n",
       "4                TCS          23.0           4000.0    Mumbai        India   \n",
       "..               ...           ...              ...       ...          ...   \n",
       "142  Infosys Pvt Lmt          22.0           8202.0    Mumbai        India   \n",
       "143              TCS          33.0           9024.0  Calcutta        India   \n",
       "145          Infosys          44.0           4034.0     Delhi        India   \n",
       "146              TCS          33.0           5034.0    Mumbai        India   \n",
       "147          Infosys          22.0           8202.0    Cochin        India   \n",
       "\n",
       "     Gender(0=Male, 1=Female)  \n",
       "0                           0  \n",
       "1                           0  \n",
       "2                           0  \n",
       "3                           0  \n",
       "4                           0  \n",
       "..                        ...  \n",
       "142                         0  \n",
       "143                         1  \n",
       "145                         1  \n",
       "146                         1  \n",
       "147                         0  \n",
       "\n",
       "[144 rows x 6 columns]"
      ]
     },
     "execution_count": 154,
     "metadata": {},
     "output_type": "execute_result"
    }
   ],
   "source": [
    "# Remove all duplicate rows. \n",
    "df.drop_duplicates(inplace=True)\n",
    "df"
   ]
  },
  {
   "cell_type": "code",
   "execution_count": 155,
   "id": "81bb73a8",
   "metadata": {},
   "outputs": [],
   "source": [
    "# Handling Null Values\n",
    "# numerical column\n",
    "df['Employee_Age'] = df['Employee_Age'].replace(0, np.nan)  #Replace the value 0 in age as NaN\n",
    "df['Employee_Salary'] = df['Employee_Salary'].fillna(df['Employee_Salary'].mean())"
   ]
  },
  {
   "cell_type": "code",
   "execution_count": 156,
   "id": "d2386e10",
   "metadata": {},
   "outputs": [],
   "source": [
    "# Handling Null Values\n",
    "# categorical column\n",
    "df['Company_Name'] = df['Company_Name'].fillna(df['Company_Name'].mode()[0])\n",
    "df['Location'] = df['Location'].fillna(df['Location'].mode()[0])"
   ]
  },
  {
   "cell_type": "code",
   "execution_count": 157,
   "id": "ed313c9d",
   "metadata": {},
   "outputs": [
    {
     "name": "stdout",
     "output_type": "stream",
     "text": [
      "Missing values:\n"
     ]
    },
    {
     "data": {
      "text/plain": [
       "Company_Name                 0\n",
       "Employee_Age                23\n",
       "Employee_Salary              0\n",
       "Location                     0\n",
       "Country_Name                 0\n",
       "Gender(0=Male, 1=Female)     0\n",
       "dtype: int64"
      ]
     },
     "execution_count": 157,
     "metadata": {},
     "output_type": "execute_result"
    }
   ],
   "source": [
    "# Finding missing values\n",
    "print(\"Missing values:\")\n",
    "df.isnull().sum()"
   ]
  },
  {
   "cell_type": "code",
   "execution_count": 158,
   "id": "d59b24e7",
   "metadata": {},
   "outputs": [],
   "source": [
    "# Find the outliers."
   ]
  },
  {
   "cell_type": "code",
   "execution_count": 159,
   "id": "e50f82d5",
   "metadata": {},
   "outputs": [],
   "source": [
    "# Outlier Detection & Removal (IQR method)\n",
    "def remove_outliers(df, column):\n",
    "    Q1 = df[column].quantile(0.25)\n",
    "    Q3 = df[column].quantile(0.75)\n",
    "    IQR = Q3 - Q1\n",
    "    lower_bound = Q1 - 1.5 * IQR\n",
    "    upper_bound = Q3 + 1.5 * IQR\n",
    "    return df[(df[column] >= lower_bound) & (df[column] <= upper_bound)]"
   ]
  },
  {
   "cell_type": "code",
   "execution_count": 160,
   "id": "32059a23",
   "metadata": {},
   "outputs": [
    {
     "data": {
      "image/png": "[encoded data removed]",
      "text/plain": [
       "<Figure size 600x500 with 1 Axes>"
      ]
     },
     "metadata": {},
     "output_type": "display_data"
    },
    {
     "data": {
      "image/png": "[encoded data removed]",
      "text/plain": [
       "<Figure size 600x500 with 1 Axes>"
      ]
     },
     "metadata": {},
     "output_type": "display_data"
    }
   ],
   "source": [
    "# Visualizing Outliers Before Removal\n",
    "plt.figure(figsize=(6, 5))\n",
    "sns.boxplot(x=df['Employee_Age'])\n",
    "plt.title(\"Boxplot of Age Before Outlier Removal\")\n",
    "plt.show()\n",
    "\n",
    "plt.figure(figsize=(6, 5))\n",
    "sns.boxplot(x=df['Employee_Salary'])\n",
    "plt.title(\"Boxplot of Salary Before Outlier Removal\")\n",
    "plt.show()"
   ]
  },
  {
   "cell_type": "code",
   "execution_count": 161,
   "id": "f9fff1f1",
   "metadata": {},
   "outputs": [],
   "source": [
    "# Removing Outliers\n",
    "df = remove_outliers(df, 'Employee_Age')\n",
    "df = remove_outliers(df, 'Employee_Salary')"
   ]
  },
  {
   "cell_type": "code",
   "execution_count": 162,
   "id": "59ad52ee",
   "metadata": {},
   "outputs": [
    {
     "data": {
      "image/png": "[encoded data removed]",
      "text/plain": [
       "<Figure size 600x500 with 1 Axes>"
      ]
     },
     "metadata": {},
     "output_type": "display_data"
    },
    {
     "data": {
      "image/png": "[encoded data removed]",
      "text/plain": [
       "<Figure size 600x500 with 1 Axes>"
      ]
     },
     "metadata": {},
     "output_type": "display_data"
    }
   ],
   "source": [
    "# Visualizing Outliers After Removal\n",
    "plt.figure(figsize=(6, 5))\n",
    "sns.boxplot(x=df['Employee_Age'])\n",
    "plt.title(\"Boxplot of Age After Outlier Removal\")\n",
    "plt.show()\n",
    "\n",
    "plt.figure(figsize=(6, 5))\n",
    "sns.boxplot(x=df['Employee_Salary'])\n",
    "plt.title(\"Boxplot of Salary After Outlier Removal\")\n",
    "plt.show()\n"
   ]
  },
  {
   "cell_type": "markdown",
   "id": "45c61b8f",
   "metadata": {},
   "source": [
    "# 3.Data Analysis:"
   ]
  },
  {
   "cell_type": "markdown",
   "id": "3e71b5b7",
   "metadata": {},
   "source": [
    "### i) Filter the data with age >40 and salary<5000 "
   ]
  },
  {
   "cell_type": "code",
   "execution_count": 163,
   "id": "68f5e6b6",
   "metadata": {},
   "outputs": [
    {
     "name": "stdout",
     "output_type": "stream",
     "text": [
      "\n",
      "Filtered Data (Employee_Age > 40, Employee_Salary < 5000):\n",
      "   Company_Name  Employee_Age  Employee_Salary   Location Country_Name  \\\n",
      "21      Infosys          50.0           3184.0      Delhi        India   \n",
      "32      Infosys          45.0           4034.0   Calcutta        India   \n",
      "39      Infosys          41.0           3000.0     Mumbai        India   \n",
      "50      Infosys          41.0           3000.0    Chennai        India   \n",
      "57      Infosys          51.0           3184.0  Hyderabad        India   \n",
      "\n",
      "    Gender(0=Male, 1=Female)  \n",
      "21                         0  \n",
      "32                         0  \n",
      "39                         0  \n",
      "50                         0  \n",
      "57                         0  \n"
     ]
    }
   ],
   "source": [
    "filtered_df = df[(df['Employee_Age'] > 40) & (df['Employee_Salary'] < 5000)]\n",
    "print(\"\\nFiltered Data (Employee_Age > 40, Employee_Salary < 5000):\")\n",
    "print(filtered_df.head())\n"
   ]
  },
  {
   "cell_type": "markdown",
   "id": "95097f78",
   "metadata": {},
   "source": [
    "### ii)Plot the chart with age and salary "
   ]
  },
  {
   "cell_type": "code",
   "execution_count": 164,
   "id": "1b68c552",
   "metadata": {},
   "outputs": [
    {
     "data": {
      "image/png": "[encoded data removed]",
      "text/plain": [
       "<Figure size 800x600 with 1 Axes>"
      ]
     },
     "metadata": {},
     "output_type": "display_data"
    }
   ],
   "source": [
    "# Plotting age vs salary for the filtered data\n",
    "data = df[(df['Employee_Age'] > 40) & (df['Employee_Salary'] < 5000)]\n",
    "plt.figure(figsize=(8, 6))\n",
    "plt.scatter(data['Employee_Age'], data['Employee_Salary'], color='teal')\n",
    "plt.title('Scatter plot: Age vs Salary (Age > 40 & Salary < 5000)')\n",
    "plt.xlabel('Employee Age')\n",
    "plt.ylabel('Employee Salary')\n",
    "plt.grid(True)\n",
    "plt.tight_layout()\n",
    "plt.show()\n",
    "\n"
   ]
  },
  {
   "cell_type": "markdown",
   "id": "ac5ffbac",
   "metadata": {},
   "source": [
    "Most of the employees have salary below 3400 according to the chart"
   ]
  },
  {
   "cell_type": "markdown",
   "id": "be436189",
   "metadata": {},
   "source": [
    "### iii)Count the number of people from each place and represent it visually "
   ]
  },
  {
   "cell_type": "code",
   "execution_count": 165,
   "id": "e82d52ed",
   "metadata": {},
   "outputs": [
    {
     "data": {
      "image/png": "[encoded data removed]",
      "text/plain": [
       "<Figure size 1000x500 with 1 Axes>"
      ]
     },
     "metadata": {},
     "output_type": "display_data"
    }
   ],
   "source": [
    "plt.figure(figsize=(10, 5))\n",
    "ax = sns.countplot(y=df['Location'], order=df['Location'].value_counts().index, palette=\"coolwarm\")\n",
    "plt.xlabel(\"Count\")\n",
    "plt.ylabel(\"Location\")\n",
    "plt.title(\"Count of People from Each Place\")\n",
    "\n",
    "# Adding labels to bars\n",
    "for p in ax.patches:\n",
    "    ax.annotate(f'{p.get_width()}', (p.get_width() + 0.5, p.get_y() + p.get_height()/2), ha='left', va='center')\n",
    "\n",
    "plt.show()\n"
   ]
  },
  {
   "cell_type": "markdown",
   "id": "eea047c3",
   "metadata": {},
   "source": [
    "* Mumbai is the place with highest number of employees whereas Nagpur and Bhopal has lowest number of employees"
   ]
  },
  {
   "cell_type": "markdown",
   "id": "01e85738",
   "metadata": {},
   "source": [
    "# 4. Data Encoding\n"
   ]
  },
  {
   "cell_type": "markdown",
   "id": "7a449f68",
   "metadata": {},
   "source": [
    "### Convert categorical variables into numerical representations using techniques such as one-hot encoding, label encoding, making them suitable for analysis by machine learning algorithms. "
   ]
  },
  {
   "cell_type": "code",
   "execution_count": 166,
   "id": "2c4283c1",
   "metadata": {},
   "outputs": [
    {
     "name": "stdout",
     "output_type": "stream",
     "text": [
      "Original Data:\n",
      "        Company_Name  Employee_Age  Employee_Salary  Location  Country_Name  \\\n",
      "0                TCS          20.0      5283.471074   Chennai             0   \n",
      "1            Infosys          30.0      5283.471074    Mumbai             0   \n",
      "2                TCS          35.0      2300.000000  Calcutta             0   \n",
      "3            Infosys          40.0      3000.000000     Delhi             0   \n",
      "4                TCS          23.0      4000.000000    Mumbai             0   \n",
      "..               ...           ...              ...       ...           ...   \n",
      "142  Infosys Pvt Lmt          22.0      8202.000000    Mumbai             0   \n",
      "143              TCS          33.0      9024.000000  Calcutta             0   \n",
      "145          Infosys          44.0      4034.000000     Delhi             0   \n",
      "146              TCS          33.0      5034.000000    Mumbai             0   \n",
      "147          Infosys          22.0      8202.000000    Cochin             0   \n",
      "\n",
      "     Gender(0=Male, 1=Female)  \n",
      "0                           0  \n",
      "1                           0  \n",
      "2                           0  \n",
      "3                           0  \n",
      "4                           0  \n",
      "..                        ...  \n",
      "142                         0  \n",
      "143                         1  \n",
      "145                         1  \n",
      "146                         1  \n",
      "147                         0  \n",
      "\n",
      "[121 rows x 6 columns]\n"
     ]
    }
   ],
   "source": [
    "# Applying Label Encoding to 'Country Name' column\n",
    "label_encoder = LabelEncoder()\n",
    "df['Country_Name'] = label_encoder.fit_transform(df['Country_Name'])\n",
    "print(\"Original Data:\")\n",
    "print(df)\n",
    "\n"
   ]
  },
  {
   "cell_type": "code",
   "execution_count": 167,
   "id": "54145fb8",
   "metadata": {},
   "outputs": [
    {
     "name": "stdout",
     "output_type": "stream",
     "text": [
      "\n",
      "Final Processed Data After Encoding:\n",
      "   Employee_Age  Employee_Salary  Country_Name  Gender(0=Male, 1=Female)  \\\n",
      "0          20.0      5283.471074           0.0                       0.0   \n",
      "1          30.0      5283.471074           0.0                       0.0   \n",
      "2          35.0      2300.000000           0.0                       0.0   \n",
      "3          40.0      3000.000000           0.0                       0.0   \n",
      "4          23.0      4000.000000           0.0                       0.0   \n",
      "\n",
      "   Company_Name_1  Company_Name_2  Company_Name_3  Company_Name_4  \\\n",
      "0             0.0             0.0             0.0             1.0   \n",
      "1             0.0             1.0             0.0             0.0   \n",
      "2             0.0             0.0             0.0             1.0   \n",
      "3             0.0             1.0             0.0             0.0   \n",
      "4             0.0             0.0             0.0             1.0   \n",
      "\n",
      "   Company_Name_5  Location_1  Location_2  Location_3  Location_4  Location_5  \\\n",
      "0             0.0         0.0         1.0         0.0         0.0         0.0   \n",
      "1             0.0         0.0         0.0         0.0         0.0         0.0   \n",
      "2             0.0         1.0         0.0         0.0         0.0         0.0   \n",
      "3             0.0         0.0         0.0         0.0         1.0         0.0   \n",
      "4             0.0         0.0         0.0         0.0         0.0         0.0   \n",
      "\n",
      "   Location_6  Location_7  Location_8  Location_9  Location_10  \n",
      "0         0.0         0.0         0.0         0.0          0.0  \n",
      "1         1.0         0.0         0.0         0.0          0.0  \n",
      "2         0.0         0.0         0.0         0.0          0.0  \n",
      "3         0.0         0.0         0.0         0.0          0.0  \n",
      "4         1.0         0.0         0.0         0.0          0.0  \n"
     ]
    }
   ],
   "source": [
    "from sklearn.preprocessing import LabelEncoder, OneHotEncoder\n",
    "\n",
    "# Label Encoding for 'Company' and 'Place'\n",
    "label_encoders = {}\n",
    "categorical_columns = ['Company_Name', 'Location']\n",
    "for col in categorical_columns:\n",
    "    le = LabelEncoder()\n",
    "    df[col] = le.fit_transform(df[col])  # Converting categorical values into numbers\n",
    "    label_encoders[col] = le  # Storing encoders for reference\n",
    "\n",
    "# One-Hot Encoding (If needed)\n",
    "one_hot_encoder = OneHotEncoder(drop='first', sparse=False)\n",
    "encoded_data = one_hot_encoder.fit_transform(df[categorical_columns])\n",
    "encoded_df = pd.DataFrame(encoded_data, columns=one_hot_encoder.get_feature_names_out(categorical_columns))\n",
    "\n",
    "# Concatenating One-Hot Encoded Data\n",
    "df = pd.concat([df.drop(columns=categorical_columns), encoded_df], axis=1)\n",
    "\n",
    "print(\"\\nFinal Processed Data After Encoding:\")\n",
    "print(df.head())\n"
   ]
  },
  {
   "cell_type": "markdown",
   "id": "6296e33f",
   "metadata": {},
   "source": [
    "# 5.Feature Scaling:\n"
   ]
  },
  {
   "cell_type": "markdown",
   "id": "9f518e53",
   "metadata": {},
   "source": [
    "### After the process of encoding, perform the scaling of the features using standardscaler and minmaxscaler. "
   ]
  },
  {
   "cell_type": "code",
   "execution_count": 169,
   "id": "b7f2ab5a",
   "metadata": {},
   "outputs": [],
   "source": [
    "# 3. Splitting the Data rondomly (80-20% split)\n",
    "X = df[['Employee_Age', 'Employee_Salary']]  # Features\n",
    "y = df['Gender(0=Male, 1=Female)']  # Target variable\n",
    "# Here I assumed the columns ['Employee_Age', 'Employee_Salary'] as features and column ['Gender(0=Male, 1=Female)'] as the target variable."
   ]
  },
  {
   "cell_type": "code",
   "execution_count": 170,
   "id": "5448b6c5",
   "metadata": {},
   "outputs": [
    {
     "name": "stdout",
     "output_type": "stream",
     "text": [
      "\n",
      "Training Data (Features):\n",
      "     Employee_Age  Employee_Salary\n",
      "139          22.0      2934.000000\n",
      "18           22.0      5283.471074\n",
      "20           37.0      3045.000000\n",
      "12           45.0      5283.471074\n",
      "40           24.0      4345.000000\n",
      "..            ...              ...\n",
      "81           43.0      9000.000000\n",
      "128          33.0      3045.000000\n",
      "16           23.0      3030.000000\n",
      "109          33.0      5283.471074\n",
      "124          22.0      8787.000000\n",
      "\n",
      "[112 rows x 2 columns]\n",
      "\n",
      "Testing Data (Features):\n",
      "     Employee_Age  Employee_Salary\n",
      "76           32.0      4000.000000\n",
      "133          22.0      8943.000000\n",
      "35           35.0      9024.000000\n",
      "57           51.0      3184.000000\n",
      "115          22.0      8787.000000\n",
      "107           NaN              NaN\n",
      "97           22.0      8943.000000\n",
      "140          44.0      4034.000000\n",
      "95            NaN              NaN\n",
      "14           40.0      3000.000000\n",
      "31           20.0      2934.000000\n",
      "51           24.0      3000.000000\n",
      "21           50.0      3184.000000\n",
      "127          30.0      5098.000000\n",
      "137          31.0      2034.000000\n",
      "113           NaN              NaN\n",
      "30           46.0      7654.000000\n",
      "101           NaN              NaN\n",
      "13           18.0      1234.000000\n",
      "147          22.0      8202.000000\n",
      "75           44.0      3000.000000\n",
      "112          22.0      4324.000000\n",
      "146          33.0      5034.000000\n",
      "134          31.0      8345.000000\n",
      "74           37.0      2300.000000\n",
      "4            23.0      4000.000000\n",
      "68           43.0      4034.000000\n",
      "48           43.0      5283.471074\n",
      "110          33.0      2300.000000\n"
     ]
    }
   ],
   "source": [
    "X_train, X_test, y_train, y_test = train_test_split(X, y, test_size=0.2, random_state=42)\n",
    "print(\"\\nTraining Data (Features):\")\n",
    "print(X_train)\n",
    "print(\"\\nTesting Data (Features):\")\n",
    "print(X_test)"
   ]
  },
  {
   "cell_type": "code",
   "execution_count": 171,
   "id": "37d407ae",
   "metadata": {},
   "outputs": [],
   "source": [
    "# StandardScaler (Standard Scaling) mean=0,std=1\n",
    "scaler_standard = StandardScaler()\n",
    "X_train_scaled_standard = scaler_standard.fit_transform(X_train)\n",
    "X_test_scaled_standard = scaler_standard.transform(X_test)"
   ]
  },
  {
   "cell_type": "code",
   "execution_count": 172,
   "id": "8ed63390",
   "metadata": {},
   "outputs": [],
   "source": [
    "# MinMaxScaler (Normalization)\n",
    "scaler_minmax = MinMaxScaler()\n",
    "X_train_scaled_minmax = scaler_minmax.fit_transform(X_train)\n",
    "X_test_scaled_minmax = scaler_minmax.transform(X_test)"
   ]
  },
  {
   "cell_type": "code",
   "execution_count": 173,
   "id": "24d409b2",
   "metadata": {},
   "outputs": [
    {
     "name": "stdout",
     "output_type": "stream",
     "text": [
      "\n",
      "Standard Scaled Training Data:\n",
      "[[-1.13959911 -1.0157411 ]\n",
      " [-1.13959911 -0.04952815]\n",
      " [ 0.59326543 -0.97009268]\n",
      " [ 1.51745984 -0.04952815]\n",
      " [-0.9085505  -0.43547157]\n",
      " [ 1.05536264  1.59567742]\n",
      " [-0.9085505  -0.04952815]\n",
      " [ 1.40193554 -0.97502765]\n",
      " [ 0.13116822  1.20951647]\n",
      " [-1.37064771 -0.16240355]\n",
      " [ 0.13116822 -1.77449184]\n",
      " [-1.37064771 -0.04952815]\n",
      " [-0.7930262   0.46844936]\n",
      " [ 1.51745984 -0.56336939]\n",
      " [-0.9085505  -0.04952815]\n",
      " [-1.0240748   1.83913565]\n",
      " [ 0.36221682 -1.38586341]\n",
      " [        nan         nan]\n",
      " [-1.25512341 -0.9885988 ]\n",
      " [ 0.24669252 -0.04952815]\n",
      " [ 1.05536264 -0.9885988 ]\n",
      " [ 0.24669252 -0.16610478]\n",
      " [ 0.93983833  1.59567742]\n",
      " [ 1.63298415  1.47888327]\n",
      " [ 0.24669252  1.20951647]\n",
      " [ 2.55717856 -0.91292935]\n",
      " [ 0.47774112 -0.16610478]\n",
      " [ 1.40193554 -0.892367  ]\n",
      " [ 0.36221682 -0.16610478]\n",
      " [-0.6775019   1.15070815]\n",
      " [ 1.40193554  1.59567742]\n",
      " [        nan         nan]\n",
      " [ 1.40193554  1.83913565]\n",
      " [ 0.24669252 -1.77449184]\n",
      " [ 0.36221682 -0.04952815]\n",
      " [-1.25512341 -0.04952815]\n",
      " [        nan         nan]\n",
      " [-1.25512341  1.15070815]\n",
      " [-0.6775019   0.65638924]\n",
      " [ 0.13116822 -0.15212238]\n",
      " [-0.7930262   1.45544219]\n",
      " [-1.0240748   0.65638924]\n",
      " [-1.13959911 -0.23848425]\n",
      " [ 1.40193554 -0.04952815]\n",
      " [ 0.01564392  0.92534479]\n",
      " [ 1.05536264 -0.9885988 ]\n",
      " [ 0.24669252 -1.27647171]\n",
      " [-1.13959911 -0.04952815]\n",
      " [ 1.51745984  1.47888327]\n",
      " [-1.48617201 -1.71486102]\n",
      " [ 0.01564392  1.06763626]\n",
      " [-1.13959911 -0.04952815]\n",
      " [ 1.40193554 -0.56336939]\n",
      " [        nan         nan]\n",
      " [-1.0240748  -0.04952815]\n",
      " [-1.0240748  -0.9885988 ]\n",
      " [        nan         nan]\n",
      " [ 0.93983833 -0.9885988 ]\n",
      " [ 0.01564392 -0.04952815]\n",
      " [ 0.36221682  1.06763626]\n",
      " [-1.13959911 -0.04952815]\n",
      " [ 0.13116822 -0.15212238]\n",
      " [ 0.24669252  1.06763626]\n",
      " [ 0.13116822  1.39128765]\n",
      " [        nan         nan]\n",
      " [ 0.13116822  1.4887532 ]\n",
      " [ 0.47774112  1.20951647]\n",
      " [ 0.70878973 -0.97009268]\n",
      " [        nan         nan]\n",
      " [-1.25512341 -0.97626139]\n",
      " [ 1.40193554 -0.04952815]\n",
      " [ 0.01564392 -0.15212238]\n",
      " [        nan         nan]\n",
      " [ 0.24669252 -0.04952815]\n",
      " [        nan         nan]\n",
      " [ 0.13116822 -0.04952815]\n",
      " [ 0.01564392 -1.77449184]\n",
      " [ 1.05536264 -0.04952815]\n",
      " [-1.13959911  1.15070815]\n",
      " [-1.25512341  0.46886061]\n",
      " [ 1.40193554 -0.56336939]\n",
      " [        nan         nan]\n",
      " [        nan         nan]\n",
      " [-0.09988039 -1.38586341]\n",
      " [ 1.05536264 -0.9885988 ]\n",
      " [ 0.01564392 -0.04952815]\n",
      " [        nan         nan]\n",
      " [-1.25512341 -1.0157411 ]\n",
      " [ 0.24669252  1.4887532 ]\n",
      " [        nan         nan]\n",
      " [-0.7930262   0.65638924]\n",
      " [ 0.47774112 -0.15212238]\n",
      " [ 2.09508135 -0.91292935]\n",
      " [        nan         nan]\n",
      " [-0.21540469 -0.04952815]\n",
      " [-1.0240748  -0.23848425]\n",
      " [-1.0240748   1.45544219]\n",
      " [ 0.36221682 -1.27647171]\n",
      " [ 1.51745984  1.59567742]\n",
      " [ 0.13116822  0.10285077]\n",
      " [ 0.13116822 -1.77449184]\n",
      " [-1.13959911  1.15070815]\n",
      " [-1.13959911 -1.0157411 ]\n",
      " [-1.71722062 -1.71486102]\n",
      " [        nan         nan]\n",
      " [        nan         nan]\n",
      " [-1.25512341 -0.23848425]\n",
      " [ 1.28641124  1.47888327]\n",
      " [ 0.13116822 -0.97009268]\n",
      " [-1.0240748  -0.97626139]\n",
      " [ 0.13116822 -0.04952815]\n",
      " [-1.13959911  1.39128765]]\n",
      "\n",
      "Min-Max Scaled Training Data:\n",
      "[[0.13513514 0.20996927]\n",
      " [0.13513514 0.47734962]\n",
      " [0.54054054 0.22260157]\n",
      " [0.75675676 0.47734962]\n",
      " [0.18918919 0.3705474 ]\n",
      " [0.64864865 0.93262775]\n",
      " [0.18918919 0.47734962]\n",
      " [0.72972973 0.22123592]\n",
      " [0.43243243 0.82576534]\n",
      " [0.08108108 0.44611358]\n",
      " [0.43243243 0.        ]\n",
      " [0.08108108 0.47734962]\n",
      " [0.21621622 0.62068966]\n",
      " [0.75675676 0.33515421]\n",
      " [0.18918919 0.47734962]\n",
      " [0.16216216 1.        ]\n",
      " [0.48648649 0.10754524]\n",
      " [       nan        nan]\n",
      " [0.10810811 0.21748037]\n",
      " [0.45945946 0.47734962]\n",
      " [0.64864865 0.21748037]\n",
      " [0.45945946 0.44508934]\n",
      " [0.62162162 0.93262775]\n",
      " [0.78378378 0.90030727]\n",
      " [0.45945946 0.82576534]\n",
      " [1.         0.23842039]\n",
      " [0.51351351 0.44508934]\n",
      " [0.72972973 0.24411062]\n",
      " [0.48648649 0.44508934]\n",
      " [0.24324324 0.80949129]\n",
      " [0.72972973 0.93262775]\n",
      " [       nan        nan]\n",
      " [0.72972973 1.        ]\n",
      " [0.45945946 0.        ]\n",
      " [0.48648649 0.47734962]\n",
      " [0.10810811 0.47734962]\n",
      " [       nan        nan]\n",
      " [0.10810811 0.80949129]\n",
      " [0.24324324 0.6726983 ]\n",
      " [0.43243243 0.44895869]\n",
      " [0.21621622 0.89382042]\n",
      " [0.16216216 0.6726983 ]\n",
      " [0.13513514 0.42505975]\n",
      " [0.72972973 0.47734962]\n",
      " [0.40540541 0.74712644]\n",
      " [0.64864865 0.21748037]\n",
      " [0.45945946 0.13781723]\n",
      " [0.13513514 0.47734962]\n",
      " [0.75675676 0.90030727]\n",
      " [0.05405405 0.01650165]\n",
      " [0.40540541 0.78650279]\n",
      " [0.13513514 0.47734962]\n",
      " [0.72972973 0.33515421]\n",
      " [       nan        nan]\n",
      " [0.16216216 0.47734962]\n",
      " [0.16216216 0.21748037]\n",
      " [       nan        nan]\n",
      " [0.62162162 0.21748037]\n",
      " [0.40540541 0.47734962]\n",
      " [0.48648649 0.78650279]\n",
      " [0.13513514 0.47734962]\n",
      " [0.43243243 0.44895869]\n",
      " [0.45945946 0.78650279]\n",
      " [0.43243243 0.87606692]\n",
      " [       nan        nan]\n",
      " [0.43243243 0.90303858]\n",
      " [0.51351351 0.82576534]\n",
      " [0.56756757 0.22260157]\n",
      " [       nan        nan]\n",
      " [0.10810811 0.2208945 ]\n",
      " [0.72972973 0.47734962]\n",
      " [0.40540541 0.44895869]\n",
      " [       nan        nan]\n",
      " [0.45945946 0.47734962]\n",
      " [       nan        nan]\n",
      " [0.43243243 0.47734962]\n",
      " [0.40540541 0.        ]\n",
      " [0.64864865 0.47734962]\n",
      " [0.13513514 0.80949129]\n",
      " [0.10810811 0.62080346]\n",
      " [0.72972973 0.33515421]\n",
      " [       nan        nan]\n",
      " [       nan        nan]\n",
      " [0.37837838 0.10754524]\n",
      " [0.64864865 0.21748037]\n",
      " [0.40540541 0.47734962]\n",
      " [       nan        nan]\n",
      " [0.10810811 0.20996927]\n",
      " [0.45945946 0.90303858]\n",
      " [       nan        nan]\n",
      " [0.21621622 0.6726983 ]\n",
      " [0.51351351 0.44895869]\n",
      " [0.89189189 0.23842039]\n",
      " [       nan        nan]\n",
      " [0.35135135 0.47734962]\n",
      " [0.16216216 0.42505975]\n",
      " [0.16216216 0.89382042]\n",
      " [0.48648649 0.13781723]\n",
      " [0.75675676 0.93262775]\n",
      " [0.43243243 0.51951747]\n",
      " [0.43243243 0.        ]\n",
      " [0.13513514 0.80949129]\n",
      " [0.13513514 0.20996927]\n",
      " [0.         0.01650165]\n",
      " [       nan        nan]\n",
      " [       nan        nan]\n",
      " [0.10810811 0.42505975]\n",
      " [0.7027027  0.90030727]\n",
      " [0.43243243 0.22260157]\n",
      " [0.16216216 0.2208945 ]\n",
      " [0.43243243 0.47734962]\n",
      " [0.13513514 0.87606692]]\n"
     ]
    }
   ],
   "source": [
    "print(\"\\nStandard Scaled Training Data:\")\n",
    "print(X_train_scaled_standard)\n",
    "print(\"\\nMin-Max Scaled Training Data:\")\n",
    "print(X_train_scaled_minmax)"
   ]
  },
  {
   "cell_type": "code",
   "execution_count": null,
   "id": "0bd19b03",
   "metadata": {},
   "outputs": [],
   "source": []
  }
 ],
 "metadata": {
  "kernelspec": {
   "display_name": "Python 3 (ipykernel)",
   "language": "python",
   "name": "python3"
  },
  "language_info": {
   "codemirror_mode": {
    "name": "ipython",
    "version": 3
   },
   "file_extension": ".py",
   "mimetype": "text/x-python",
   "name": "python",
   "nbconvert_exporter": "python",
   "pygments_lexer": "ipython3",
   "version": "3.9.13"
  }
 },
 "nbformat": 4,
 "nbformat_minor": 5
}
